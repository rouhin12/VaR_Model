{
 "cells": [
  {
   "cell_type": "markdown",
   "metadata": {},
   "source": [
    "### Step 1: Fetch Historical Data"
   ]
  },
  {
   "cell_type": "code",
   "execution_count": 5,
   "metadata": {},
   "outputs": [
    {
     "name": "stderr",
     "output_type": "stream",
     "text": [
      "[*********************100%***********************]  1 of 1 completed\n",
      "[*********************100%***********************]  1 of 1 completed"
     ]
    },
    {
     "name": "stdout",
     "output_type": "stream",
     "text": [
      "Price                      Adj Close      Close       High        Low  \\\n",
      "Ticker                         INR=X      INR=X      INR=X      INR=X   \n",
      "Date                                                                    \n",
      "2015-12-24 00:00:00+00:00  66.153999  66.153999  66.094002  65.660004   \n",
      "2015-12-25 00:00:00+00:00  65.940002  65.940002  66.070000  65.940002   \n",
      "2015-12-28 00:00:00+00:00  65.940002  65.940002  66.208000  65.940002   \n",
      "2015-12-29 00:00:00+00:00  66.134003  66.134003  66.408997  66.099998   \n",
      "2015-12-30 00:00:00+00:00  66.260002  66.260002  66.464996  66.139999   \n",
      "\n",
      "Price                           Open Volume  \n",
      "Ticker                         INR=X  INR=X  \n",
      "Date                                         \n",
      "2015-12-24 00:00:00+00:00  66.094002      0  \n",
      "2015-12-25 00:00:00+00:00  65.940002      0  \n",
      "2015-12-28 00:00:00+00:00  65.959999      0  \n",
      "2015-12-29 00:00:00+00:00  66.141998      0  \n",
      "2015-12-30 00:00:00+00:00  66.265999      0  \n",
      "Price                         Adj Close         Close          High  \\\n",
      "Ticker                           ^BSESN        ^BSESN        ^BSESN   \n",
      "Date                                                                  \n",
      "2015-12-23 00:00:00+00:00  25850.300781  25850.300781  25875.269531   \n",
      "2015-12-24 00:00:00+00:00  25838.710938  25838.710938  25922.470703   \n",
      "2015-12-28 00:00:00+00:00  26034.130859  26034.130859  26073.410156   \n",
      "2015-12-29 00:00:00+00:00  26079.480469  26079.480469  26133.779297   \n",
      "2015-12-30 00:00:00+00:00  25960.029297  25960.029297  26130.199219   \n",
      "\n",
      "Price                               Low          Open Volume  \n",
      "Ticker                           ^BSESN        ^BSESN ^BSESN  \n",
      "Date                                                          \n",
      "2015-12-23 00:00:00+00:00  25689.699219  25697.660156   6900  \n",
      "2015-12-24 00:00:00+00:00  25763.400391  25893.839844   4900  \n",
      "2015-12-28 00:00:00+00:00  25856.859375  25858.519531   6900  \n",
      "2015-12-29 00:00:00+00:00  25994.449219  26075.679688   6000  \n",
      "2015-12-30 00:00:00+00:00  25939.250000  26123.869141   6500  \n"
     ]
    },
    {
     "name": "stderr",
     "output_type": "stream",
     "text": [
      "\n"
     ]
    }
   ],
   "source": [
    "import yfinance as yf\n",
    "import pandas as pd\n",
    "import numpy as np\n",
    "import datetime as dt\n",
    "from statsmodels.tsa.stattools import adfuller\n",
    "\n",
    "# Define the tickers for USD/INR and Sensex\n",
    "usd_inr_ticker = 'INR=X'\n",
    "sensex_ticker = '^BSESN'\n",
    "\n",
    "# Define the date range\n",
    "start_date = '2004-01-01'\n",
    "end_date = '2015-12-31'\n",
    "\n",
    "# Fetch the data\n",
    "usd_inr_data = yf.download(usd_inr_ticker, start=start_date, end=end_date)\n",
    "sensex_data = yf.download(sensex_ticker, start=start_date, end=end_date)\n",
    "\n",
    "# Display the first few rows of the data\n",
    "print(usd_inr_data.tail())\n",
    "print(sensex_data.tail())"
   ]
  },
  {
   "cell_type": "code",
   "execution_count": 8,
   "metadata": {},
   "outputs": [
    {
     "name": "stdout",
     "output_type": "stream",
     "text": [
      "                            USD_INR    Sensex\n",
      "Date                                         \n",
      "2004-01-05 00:00:00+00:00 -0.003009  0.002057\n",
      "2004-01-06 00:00:00+00:00  0.001824 -0.015917\n",
      "2004-01-07 00:00:00+00:00 -0.003563  0.002249\n",
      "2004-01-08 00:00:00+00:00  0.001783  0.025117\n",
      "2004-01-09 00:00:00+00:00 -0.002576  0.001807\n"
     ]
    }
   ],
   "source": [
    "# Calculate log returns\n",
    "usd_inr_returns = np.log(usd_inr_data['Close'] / usd_inr_data['Close'].shift(1)).dropna()\n",
    "sensex_returns = np.log(sensex_data['Close'] / sensex_data['Close'].shift(1)).dropna()\n",
    "\n",
    "# Combine the returns into a single DataFrame using pd.concat to align indices\n",
    "returns = pd.concat([usd_inr_returns, sensex_returns], axis=1)\n",
    "returns.columns = ['USD_INR', 'Sensex']\n",
    "returns = returns.dropna()\n",
    "\n",
    "# Display the first few rows of the returns\n",
    "print(returns.head())"
   ]
  },
  {
   "cell_type": "code",
   "execution_count": 9,
   "metadata": {},
   "outputs": [
    {
     "name": "stdout",
     "output_type": "stream",
     "text": [
      "           USD_INR       Sensex\n",
      "count  2923.000000  2923.000000\n",
      "mean      0.000187     0.000511\n",
      "std       0.005485     0.015435\n",
      "min      -0.060972    -0.118092\n",
      "25%      -0.002201    -0.006570\n",
      "50%       0.000000     0.000951\n",
      "75%       0.002421     0.008297\n",
      "max       0.060972     0.159900\n"
     ]
    }
   ],
   "source": [
    "# Descriptive statistics\n",
    "descriptive_stats = returns.describe()\n",
    "\n",
    "# Display the descriptive statistics\n",
    "print(descriptive_stats)"
   ]
  },
  {
   "cell_type": "code",
   "execution_count": 10,
   "metadata": {},
   "outputs": [
    {
     "name": "stdout",
     "output_type": "stream",
     "text": [
      "Augmented Dickey-Fuller Test: USD/INR Returns\n",
      "ADF Test Statistic     -1.531604e+01\n",
      "p-value                 4.124464e-28\n",
      "# Lags Used             9.000000e+00\n",
      "# Observations Used     2.913000e+03\n",
      "Critical Value (1%)    -3.432597e+00\n",
      "Critical Value (5%)    -2.862533e+00\n",
      "Critical Value (10%)   -2.567298e+00\n",
      "\n",
      "Augmented Dickey-Fuller Test: Sensex Returns\n",
      "ADF Test Statistic       -39.459291\n",
      "p-value                    0.000000\n",
      "# Lags Used                1.000000\n",
      "# Observations Used     2921.000000\n",
      "Critical Value (1%)       -3.432591\n",
      "Critical Value (5%)       -2.862530\n",
      "Critical Value (10%)      -2.567297\n",
      "\n"
     ]
    }
   ],
   "source": [
    "# Perform Augmented Dickey-Fuller test\n",
    "def adf_test(series, title=''):\n",
    "    \"\"\"\n",
    "    Pass in a time series and an optional title, returns an ADF report\n",
    "    \"\"\"\n",
    "    print(f'Augmented Dickey-Fuller Test: {title}')\n",
    "    result = adfuller(series.dropna(), autolag='AIC')\n",
    "    labels = ['ADF Test Statistic', 'p-value', '# Lags Used', '# Observations Used']\n",
    "    out = pd.Series(result[0:4], index=labels)\n",
    "    for key, value in result[4].items():\n",
    "        out[f'Critical Value ({key})'] = value\n",
    "    print(out.to_string())\n",
    "    print('')\n",
    "\n",
    "# Perform ADF test on USD/INR and Sensex returns\n",
    "adf_test(returns['USD_INR'], title='USD/INR Returns')\n",
    "adf_test(returns['Sensex'], title='Sensex Returns')"
   ]
  }
 ],
 "metadata": {
  "kernelspec": {
   "display_name": ".venv",
   "language": "python",
   "name": "python3"
  },
  "language_info": {
   "codemirror_mode": {
    "name": "ipython",
    "version": 3
   },
   "file_extension": ".py",
   "mimetype": "text/x-python",
   "name": "python",
   "nbconvert_exporter": "python",
   "pygments_lexer": "ipython3",
   "version": "3.12.7"
  }
 },
 "nbformat": 4,
 "nbformat_minor": 2
}
