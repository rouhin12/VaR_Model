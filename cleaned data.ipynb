{
 "cells": [
  {
   "cell_type": "markdown",
   "metadata": {},
   "source": [
    "# Import Required Libraries\n",
    "Import the necessary libraries, including yfinance, pandas, numpy, and datetime."
   ]
  },
  {
   "cell_type": "code",
   "execution_count": 24,
   "metadata": {},
   "outputs": [],
   "source": [
    "import yfinance as yf\n",
    "import pandas as pd\n",
    "import numpy as np\n",
    "import datetime as dt\n",
    "from statsmodels.tsa.stattools import adfuller\n",
    "from scipy.stats import jarque_bera"
   ]
  },
  {
   "cell_type": "markdown",
   "metadata": {},
   "source": [
    "# Define Tickers and Date Range\n",
    "Define the tickers for USD/INR and Sensex, as well as the date range for the data."
   ]
  },
  {
   "cell_type": "code",
   "execution_count": 25,
   "metadata": {},
   "outputs": [],
   "source": [
    "# Define the tickers for USD/INR and Sensex\n",
    "usd_inr_ticker = 'INR=X'\n",
    "sensex_ticker = '^BSESN'\n",
    "\n",
    "# Define the date range\n",
    "start_date = '2004-01-01'\n",
    "end_date = '2015-12-31'"
   ]
  },
  {
   "cell_type": "markdown",
   "metadata": {},
   "source": [
    "# Fetch Data\n",
    "Fetch the data for USD/INR and Sensex using yfinance."
   ]
  },
  {
   "cell_type": "code",
   "execution_count": 26,
   "metadata": {},
   "outputs": [
    {
     "name": "stderr",
     "output_type": "stream",
     "text": [
      "[*********************100%***********************]  1 of 1 completed\n",
      "[*********************100%***********************]  1 of 1 completed"
     ]
    },
    {
     "name": "stdout",
     "output_type": "stream",
     "text": [
      "Price                      Adj Close      Close       High        Low  \\\n",
      "Ticker                         INR=X      INR=X      INR=X      INR=X   \n",
      "Date                                                                    \n",
      "2015-12-24 00:00:00+00:00  66.153999  66.153999  66.094002  65.660004   \n",
      "2015-12-25 00:00:00+00:00  65.940002  65.940002  66.070000  65.940002   \n",
      "2015-12-28 00:00:00+00:00  65.940002  65.940002  66.208000  65.940002   \n",
      "2015-12-29 00:00:00+00:00  66.134003  66.134003  66.408997  66.099998   \n",
      "2015-12-30 00:00:00+00:00  66.260002  66.260002  66.464996  66.139999   \n",
      "\n",
      "Price                           Open Volume  \n",
      "Ticker                         INR=X  INR=X  \n",
      "Date                                         \n",
      "2015-12-24 00:00:00+00:00  66.094002      0  \n",
      "2015-12-25 00:00:00+00:00  65.940002      0  \n",
      "2015-12-28 00:00:00+00:00  65.959999      0  \n",
      "2015-12-29 00:00:00+00:00  66.141998      0  \n",
      "2015-12-30 00:00:00+00:00  66.265999      0  \n",
      "Price                         Adj Close         Close          High  \\\n",
      "Ticker                           ^BSESN        ^BSESN        ^BSESN   \n",
      "Date                                                                  \n",
      "2015-12-23 00:00:00+00:00  25850.300781  25850.300781  25875.269531   \n",
      "2015-12-24 00:00:00+00:00  25838.710938  25838.710938  25922.470703   \n",
      "2015-12-28 00:00:00+00:00  26034.130859  26034.130859  26073.410156   \n",
      "2015-12-29 00:00:00+00:00  26079.480469  26079.480469  26133.779297   \n",
      "2015-12-30 00:00:00+00:00  25960.029297  25960.029297  26130.199219   \n",
      "\n",
      "Price                               Low          Open Volume  \n",
      "Ticker                           ^BSESN        ^BSESN ^BSESN  \n",
      "Date                                                          \n",
      "2015-12-23 00:00:00+00:00  25689.699219  25697.660156   6900  \n",
      "2015-12-24 00:00:00+00:00  25763.400391  25893.839844   4900  \n",
      "2015-12-28 00:00:00+00:00  25856.859375  25858.519531   6900  \n",
      "2015-12-29 00:00:00+00:00  25994.449219  26075.679688   6000  \n",
      "2015-12-30 00:00:00+00:00  25939.250000  26123.869141   6500  \n"
     ]
    },
    {
     "name": "stderr",
     "output_type": "stream",
     "text": [
      "\n"
     ]
    }
   ],
   "source": [
    "# Fetch Data\n",
    "\n",
    "# Fetch the data for USD/INR and Sensex using yfinance\n",
    "usd_inr_data = yf.download(usd_inr_ticker, start=start_date, end=end_date)\n",
    "sensex_data = yf.download(sensex_ticker, start=start_date, end=end_date)\n",
    "\n",
    "# Display the first few rows of the data\n",
    "print(usd_inr_data.tail())\n",
    "print(sensex_data.tail())"
   ]
  },
  {
   "cell_type": "markdown",
   "metadata": {},
   "source": [
    "# Match Dates\n",
    "Align the dates for USD/INR and Sensex data to ensure they match."
   ]
  },
  {
   "cell_type": "code",
   "execution_count": 27,
   "metadata": {},
   "outputs": [
    {
     "name": "stdout",
     "output_type": "stream",
     "text": [
      "Price                      Adj Close      Close       High        Low  \\\n",
      "Ticker                         INR=X      INR=X      INR=X      INR=X   \n",
      "Date                                                                    \n",
      "2004-01-02 00:00:00+00:00  45.603001  45.603001  45.645000  45.497002   \n",
      "2004-01-05 00:00:00+00:00  45.466000  45.466000  45.564999  45.459000   \n",
      "2004-01-06 00:00:00+00:00  45.549000  45.549000  45.604000  45.457001   \n",
      "2004-01-07 00:00:00+00:00  45.387001  45.387001  45.560001  45.375000   \n",
      "2004-01-08 00:00:00+00:00  45.467999  45.467999  45.490002  45.345001   \n",
      "\n",
      "Price                           Open Volume  \n",
      "Ticker                         INR=X  INR=X  \n",
      "Date                                         \n",
      "2004-01-02 00:00:00+00:00  45.527000      0  \n",
      "2004-01-05 00:00:00+00:00  45.528000      0  \n",
      "2004-01-06 00:00:00+00:00  45.467999      0  \n",
      "2004-01-07 00:00:00+00:00  45.548000      0  \n",
      "2004-01-08 00:00:00+00:00  45.391998      0  \n",
      "Price                        Adj Close        Close         High          Low  \\\n",
      "Ticker                          ^BSESN       ^BSESN       ^BSESN       ^BSESN   \n",
      "Date                                                                            \n",
      "2004-01-02 00:00:00+00:00  6026.589844  6026.589844  6034.379883  5944.229980   \n",
      "2004-01-05 00:00:00+00:00  6039.000000  6039.000000  6078.109863  5964.649902   \n",
      "2004-01-06 00:00:00+00:00  5943.640137  5943.640137  6121.200195  5916.330078   \n",
      "2004-01-07 00:00:00+00:00  5957.020020  5957.020020  5985.299805  5870.549805   \n",
      "2004-01-08 00:00:00+00:00  6108.540039  6108.540039  6118.620117  5992.100098   \n",
      "\n",
      "Price                             Open Volume  \n",
      "Ticker                          ^BSESN ^BSESN  \n",
      "Date                                           \n",
      "2004-01-02 00:00:00+00:00  5944.229980  31400  \n",
      "2004-01-05 00:00:00+00:00  6050.479980  33600  \n",
      "2004-01-06 00:00:00+00:00  6068.680176  37600  \n",
      "2004-01-07 00:00:00+00:00  5970.350098  36200  \n",
      "2004-01-08 00:00:00+00:00  5992.100098  31600  \n"
     ]
    }
   ],
   "source": [
    "# Align the dates for USD/INR and Sensex data to ensure they match\n",
    "\n",
    "# Handle missing values by forward filling and then backward filling\n",
    "# usd_inr_data = usd_inr_data.ffill().bfill()\n",
    "# sensex_data = sensex_data.ffill().bfill()\n",
    "\n",
    "# Ensure both datasets have the same date range by taking the intersection of their indices\n",
    "common_dates = usd_inr_data.index.intersection(sensex_data.index)\n",
    "usd_inr_data = usd_inr_data.loc[common_dates]\n",
    "sensex_data = sensex_data.loc[common_dates]\n",
    "\n",
    "# Display the first few rows of the cleaned data\n",
    "print(usd_inr_data.head())\n",
    "print(sensex_data.head())"
   ]
  },
  {
   "cell_type": "markdown",
   "metadata": {},
   "source": [
    "# Take Natural Logarithm\n",
    "Compute the natural logarithm of the cleaned and aligned data."
   ]
  },
  {
   "cell_type": "code",
   "execution_count": 28,
   "metadata": {},
   "outputs": [
    {
     "name": "stdout",
     "output_type": "stream",
     "text": [
      "                           USD_INR_Returns  Sensex_Returns\n",
      "Date                                                      \n",
      "2004-01-05 00:00:00+00:00        -0.003009        0.002057\n",
      "2004-01-06 00:00:00+00:00         0.001824       -0.015917\n",
      "2004-01-07 00:00:00+00:00        -0.003563        0.002249\n",
      "2004-01-08 00:00:00+00:00         0.001783        0.025117\n",
      "2004-01-09 00:00:00+00:00        -0.002576        0.001807\n"
     ]
    }
   ],
   "source": [
    "# Calculate log returns\n",
    "usd_inr_returns = np.log(usd_inr_data['Close'] / usd_inr_data['Close'].shift(1)).dropna()\n",
    "sensex_returns = np.log(sensex_data['Close'] / sensex_data['Close'].shift(1)).dropna()\n",
    "\n",
    "# Combine the returns into a single DataFrame\n",
    "returns = pd.concat([usd_inr_returns, sensex_returns], axis=1)\n",
    "returns.columns = ['USD_INR_Returns', 'Sensex_Returns']\n",
    "returns = returns.dropna()\n",
    "\n",
    "# Display the first few rows of the returns\n",
    "print(returns.head())"
   ]
  },
  {
   "cell_type": "code",
   "execution_count": 29,
   "metadata": {},
   "outputs": [
    {
     "name": "stdout",
     "output_type": "stream",
     "text": [
      "Descriptive Statistics:\n",
      "Mean:\n",
      "USD_INR_Returns    0.000128\n",
      "Sensex_Returns     0.000500\n",
      "dtype: float64\n",
      "\n",
      "Maximum:\n",
      "USD_INR_Returns    0.060972\n",
      "Sensex_Returns     0.159900\n",
      "dtype: float64\n",
      "\n",
      "Minimum:\n",
      "USD_INR_Returns   -0.060972\n",
      "Sensex_Returns    -0.118092\n",
      "dtype: float64\n",
      "\n",
      "Std. Dev.:\n",
      "USD_INR_Returns    0.005534\n",
      "Sensex_Returns     0.015417\n",
      "dtype: float64\n",
      "\n",
      "Skewness:\n",
      "USD_INR_Returns   -0.080399\n",
      "Sensex_Returns    -0.089932\n",
      "dtype: float64\n",
      "\n",
      "Kurtosis:\n",
      "USD_INR_Returns    20.222877\n",
      "Sensex_Returns      8.835082\n",
      "dtype: float64\n",
      "\n",
      "Jarque-Bera Test:\n",
      "USD/INR Returns: Statistic = 49631.379407971166, p-value = 0.0\n",
      "Sensex Returns: Statistic = 9473.943444564695, p-value = 0.0\n"
     ]
    }
   ],
   "source": [
    "# Calculate descriptive statistics\n",
    "descriptive_stats = returns.describe()\n",
    "\n",
    "# Calculate skewness and kurtosis\n",
    "skewness = returns.skew()\n",
    "kurtosis = returns.kurtosis()\n",
    "\n",
    "# Perform Jarque-Bera test\n",
    "jb_test_usd_inr = jarque_bera(returns['USD_INR_Returns'])\n",
    "jb_test_sensex = jarque_bera(returns['Sensex_Returns'])\n",
    "\n",
    "# Display the descriptive statistics\n",
    "print(\"Descriptive Statistics:\")\n",
    "print(f\"Mean:\\n{returns.mean()}\")\n",
    "print(f\"\\nMaximum:\\n{returns.max()}\")\n",
    "print(f\"\\nMinimum:\\n{returns.min()}\")\n",
    "print(f\"\\nStd. Dev.:\\n{returns.std()}\")\n",
    "print(f\"\\nSkewness:\\n{skewness}\")\n",
    "print(f\"\\nKurtosis:\\n{kurtosis}\")\n",
    "\n",
    "# Display the Jarque-Bera test results\n",
    "print(\"\\nJarque-Bera Test:\")\n",
    "print(f\"USD/INR Returns: Statistic = {jb_test_usd_inr[0]}, p-value = {jb_test_usd_inr[1]}\")\n",
    "print(f\"Sensex Returns: Statistic = {jb_test_sensex[0]}, p-value = {jb_test_sensex[1]}\")"
   ]
  },
  {
   "cell_type": "code",
   "execution_count": 30,
   "metadata": {},
   "outputs": [
    {
     "name": "stdout",
     "output_type": "stream",
     "text": [
      "Augmented Dickey-Fuller Test: USD/INR Returns\n",
      "ADF Test Statistic: -2.263422e+01\n",
      "p-value: 0.000000e+00\n",
      "# Lags Used: 4.000000e+00\n",
      "# Observations Used: 2.918000e+03\n",
      "Critical Value (1%): -3.432593e+00\n",
      "Critical Value (5%): -2.862531e+00\n",
      "Critical Value (10%): -2.567298e+00\n",
      "\n",
      "Augmented Dickey-Fuller Test: Sensex Returns\n",
      "ADF Test Statistic: -3.937220e+01\n",
      "p-value: 0.000000e+00\n",
      "# Lags Used: 1.000000e+00\n",
      "# Observations Used: 2.921000e+03\n",
      "Critical Value (1%): -3.432591e+00\n",
      "Critical Value (5%): -2.862530e+00\n",
      "Critical Value (10%): -2.567297e+00\n"
     ]
    }
   ],
   "source": [
    "from statsmodels.tsa.stattools import adfuller\n",
    "\n",
    "# Perform ADF test for USD/INR returns\n",
    "adf_usd_inr = adfuller(returns['USD_INR_Returns'])\n",
    "print('Augmented Dickey-Fuller Test: USD/INR Returns')\n",
    "print(f'ADF Test Statistic: {adf_usd_inr[0]:.6e}')\n",
    "print(f'p-value: {adf_usd_inr[1]:.6e}')\n",
    "print(f'# Lags Used: {adf_usd_inr[2]:.6e}')\n",
    "print(f'# Observations Used: {adf_usd_inr[3]:.6e}')\n",
    "for key, value in adf_usd_inr[4].items():\n",
    "    print(f'Critical Value ({key}): {value:.6e}')\n",
    "print()\n",
    "\n",
    "# Perform ADF test for Sensex returns\n",
    "adf_sensex = adfuller(returns['Sensex_Returns'])\n",
    "print('Augmented Dickey-Fuller Test: Sensex Returns')\n",
    "print(f'ADF Test Statistic: {adf_sensex[0]:.6e}')\n",
    "print(f'p-value: {adf_sensex[1]:.6e}')\n",
    "print(f'# Lags Used: {adf_sensex[2]:.6e}')\n",
    "print(f'# Observations Used: {adf_sensex[3]:.6e}')\n",
    "for key, value in adf_sensex[4].items():\n",
    "    print(f'Critical Value ({key}): {value:.6e}')"
   ]
  },
  {
   "cell_type": "code",
   "execution_count": 34,
   "metadata": {},
   "outputs": [
    {
     "name": "stdout",
     "output_type": "stream",
     "text": [
      "                 USD_INR_Returns  Sensex_Returns\n",
      "USD_INR_Returns         1.000000       -0.235629\n",
      "Sensex_Returns         -0.235629        1.000000\n"
     ]
    }
   ],
   "source": [
    "# Correlation test\n",
    "correlation_matrix = returns.corr()\n",
    "print(correlation_matrix)"
   ]
  },
  {
   "cell_type": "code",
   "execution_count": 32,
   "metadata": {},
   "outputs": [
    {
     "name": "stdout",
     "output_type": "stream",
     "text": [
      "Co-integration test statistic: -23.313561004598863\n",
      "p-value: 0.0\n"
     ]
    }
   ],
   "source": [
    "from statsmodels.tsa.stattools import coint\n",
    "\n",
    "# Perform co-integration test\n",
    "coint_test = coint(returns['USD_INR_Returns'], returns['Sensex_Returns'])\n",
    "print('Co-integration test statistic:', coint_test[0])\n",
    "print('p-value:', coint_test[1])"
   ]
  },
  {
   "cell_type": "code",
   "execution_count": 33,
   "metadata": {},
   "outputs": [
    {
     "name": "stdout",
     "output_type": "stream",
     "text": [
      "  Summary of Regression Results   \n",
      "==================================\n",
      "Model:                         VAR\n",
      "Method:                        OLS\n",
      "Date:           Thu, 07, Nov, 2024\n",
      "Time:                     22:31:26\n",
      "--------------------------------------------------------------------\n",
      "No. of Equations:         2.00000    BIC:                   -18.8441\n",
      "Nobs:                     2918.00    HQIC:                  -18.8729\n",
      "Log likelihood:           19300.3    FPE:                6.25971e-09\n",
      "AIC:                     -18.8891    Det(Omega_mle):     6.21278e-09\n",
      "--------------------------------------------------------------------\n",
      "Results for equation USD_INR_Returns\n",
      "=====================================================================================\n",
      "                        coefficient       std. error           t-stat            prob\n",
      "-------------------------------------------------------------------------------------\n",
      "const                      0.000196         0.000099            1.979           0.048\n",
      "L1.USD_INR_Returns        -0.207641         0.019059          -10.894           0.000\n",
      "L1.Sensex_Returns         -0.084584         0.006623          -12.772           0.000\n",
      "L2.USD_INR_Returns         0.020747         0.019562            1.061           0.289\n",
      "L2.Sensex_Returns          0.001384         0.006799            0.204           0.839\n",
      "L3.USD_INR_Returns        -0.020445         0.019548           -1.046           0.296\n",
      "L3.Sensex_Returns         -0.016445         0.006823           -2.410           0.016\n",
      "L4.USD_INR_Returns         0.002962         0.019542            0.152           0.880\n",
      "L4.Sensex_Returns         -0.003003         0.006798           -0.442           0.659\n",
      "L5.USD_INR_Returns         0.076332         0.018778            4.065           0.000\n",
      "L5.Sensex_Returns          0.003124         0.006776            0.461           0.645\n",
      "=====================================================================================\n",
      "\n",
      "Results for equation Sensex_Returns\n",
      "=====================================================================================\n",
      "                        coefficient       std. error           t-stat            prob\n",
      "-------------------------------------------------------------------------------------\n",
      "const                      0.000622         0.000286            2.178           0.029\n",
      "L1.USD_INR_Returns        -0.186333         0.054973           -3.390           0.001\n",
      "L1.Sensex_Returns          0.065617         0.019102            3.435           0.001\n",
      "L2.USD_INR_Returns        -0.138326         0.056422           -2.452           0.014\n",
      "L2.Sensex_Returns         -0.096273         0.019609           -4.910           0.000\n",
      "L3.USD_INR_Returns        -0.067259         0.056383           -1.193           0.233\n",
      "L3.Sensex_Returns         -0.022237         0.019680           -1.130           0.259\n",
      "L4.USD_INR_Returns        -0.049183         0.056366           -0.873           0.383\n",
      "L4.Sensex_Returns         -0.036137         0.019608           -1.843           0.065\n",
      "L5.USD_INR_Returns        -0.092894         0.054161           -1.715           0.086\n",
      "L5.Sensex_Returns         -0.026717         0.019545           -1.367           0.172\n",
      "=====================================================================================\n",
      "\n",
      "Correlation matrix of residuals\n",
      "                   USD_INR_Returns  Sensex_Returns\n",
      "USD_INR_Returns           1.000000       -0.240488\n",
      "Sensex_Returns           -0.240488        1.000000\n",
      "\n",
      "\n",
      "\n"
     ]
    },
    {
     "name": "stderr",
     "output_type": "stream",
     "text": [
      "e:\\Rouhin Projects\\VaRmodel\\.venv\\Lib\\site-packages\\statsmodels\\tsa\\base\\tsa_model.py:473: ValueWarning: A date index has been provided, but it has no associated frequency information and so will be ignored when e.g. forecasting.\n",
      "  self._init_dates(dates, freq)\n"
     ]
    }
   ],
   "source": [
    "from statsmodels.tsa.api import VAR\n",
    "\n",
    "# Fit the VAR model\n",
    "model = VAR(returns)\n",
    "results = model.fit(maxlags=15, ic='aic')\n",
    "\n",
    "# Display the summary of the model\n",
    "print(results.summary())"
   ]
  },
  {
   "cell_type": "code",
   "execution_count": null,
   "metadata": {},
   "outputs": [],
   "source": []
  }
 ],
 "metadata": {
  "kernelspec": {
   "display_name": ".venv",
   "language": "python",
   "name": "python3"
  },
  "language_info": {
   "codemirror_mode": {
    "name": "ipython",
    "version": 3
   },
   "file_extension": ".py",
   "mimetype": "text/x-python",
   "name": "python",
   "nbconvert_exporter": "python",
   "pygments_lexer": "ipython3",
   "version": "3.12.7"
  }
 },
 "nbformat": 4,
 "nbformat_minor": 2
}
