{
 "cells": [
  {
   "cell_type": "markdown",
   "metadata": {},
   "source": [
    "# Import Required Libraries\n",
    "Import the necessary libraries, including yfinance, pandas, numpy, and datetime."
   ]
  },
  {
   "cell_type": "code",
   "execution_count": null,
   "metadata": {},
   "outputs": [],
   "source": [
    "import yfinance as yf\n",
    "import pandas as pd\n",
    "import numpy as np\n",
    "import datetime as dt\n",
    "from statsmodels.tsa.stattools import adfuller"
   ]
  },
  {
   "cell_type": "markdown",
   "metadata": {},
   "source": [
    "# Define Tickers and Date Range\n",
    "Define the tickers for USD/INR and Sensex, as well as the date range for the data."
   ]
  },
  {
   "cell_type": "code",
   "execution_count": null,
   "metadata": {},
   "outputs": [],
   "source": [
    "# Define the tickers for USD/INR and Sensex\n",
    "usd_inr_ticker = 'INR=X'\n",
    "sensex_ticker = '^BSESN'\n",
    "\n",
    "# Define the date range\n",
    "start_date = '2004-01-01'\n",
    "end_date = '2015-12-31'"
   ]
  },
  {
   "cell_type": "markdown",
   "metadata": {},
   "source": [
    "# Fetch Data\n",
    "Fetch the data for USD/INR and Sensex using yfinance."
   ]
  },
  {
   "cell_type": "code",
   "execution_count": null,
   "metadata": {},
   "outputs": [],
   "source": [
    "# Fetch Data\n",
    "\n",
    "# Fetch the data for USD/INR and Sensex using yfinance\n",
    "usd_inr_data = yf.download(usd_inr_ticker, start=start_date, end=end_date)\n",
    "sensex_data = yf.download(sensex_ticker, start=start_date, end=end_date)\n",
    "\n",
    "# Display the first few rows of the data\n",
    "print(usd_inr_data.tail())\n",
    "print(sensex_data.tail())"
   ]
  },
  {
   "cell_type": "markdown",
   "metadata": {},
   "source": [
    "# Clean Data\n",
    "Handle missing values and clean the data for both USD/INR and Sensex."
   ]
  },
  {
   "cell_type": "code",
   "execution_count": null,
   "metadata": {},
   "outputs": [],
   "source": [
    "# Clean Data\n",
    "\n",
    "# Handle missing values by forward filling and then backward filling\n",
    "usd_inr_data = usd_inr_data.ffill().bfill()\n",
    "sensex_data = sensex_data.ffill().bfill()\n",
    "\n",
    "# Ensure both datasets have the same date range by taking the intersection of their indices\n",
    "common_dates = usd_inr_data.index.intersection(sensex_data.index)\n",
    "usd_inr_data = usd_inr_data.loc[common_dates]\n",
    "sensex_data = sensex_data.loc[common_dates]\n",
    "\n",
    "# Display the first few rows of the cleaned data\n",
    "print(usd_inr_data.head())\n",
    "print(sensex_data.head())"
   ]
  },
  {
   "cell_type": "markdown",
   "metadata": {},
   "source": [
    "# Match Dates\n",
    "Align the dates for USD/INR and Sensex data to ensure they match."
   ]
  },
  {
   "cell_type": "code",
   "execution_count": null,
   "metadata": {},
   "outputs": [],
   "source": [
    "# Align the dates for USD/INR and Sensex data to ensure they match\n",
    "\n",
    "# Handle missing values by forward filling and then backward filling\n",
    "usd_inr_data = usd_inr_data.ffill().bfill()\n",
    "sensex_data = sensex_data.ffill().bfill()\n",
    "\n",
    "# Ensure both datasets have the same date range by taking the intersection of their indices\n",
    "common_dates = usd_inr_data.index.intersection(sensex_data.index)\n",
    "usd_inr_data = usd_inr_data.loc[common_dates]\n",
    "sensex_data = sensex_data.loc[common_dates]\n",
    "\n",
    "# Display the first few rows of the cleaned data\n",
    "print(usd_inr_data.head())\n",
    "print(sensex_data.head())"
   ]
  },
  {
   "cell_type": "markdown",
   "metadata": {},
   "source": [
    "# Take Natural Logarithm\n",
    "Compute the natural logarithm of the cleaned and aligned data."
   ]
  },
  {
   "cell_type": "code",
   "execution_count": null,
   "metadata": {},
   "outputs": [],
   "source": [
    "# Take Natural Logarithm\n",
    "\n",
    "# Compute the natural logarithm of the cleaned and aligned data\n",
    "usd_inr_data['Log_Close'] = np.log(usd_inr_data['Close'])\n",
    "sensex_data['Log_Close'] = np.log(sensex_data['Close'])\n",
    "\n",
    "# Display the first few rows of the data with the natural logarithm\n",
    "print(usd_inr_data.head())\n",
    "print(sensex_data.head())"
   ]
  }
 ],
 "metadata": {
  "language_info": {
   "name": "python"
  }
 },
 "nbformat": 4,
 "nbformat_minor": 2
}
